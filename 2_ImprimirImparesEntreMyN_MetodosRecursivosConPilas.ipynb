{
  "nbformat": 4,
  "nbformat_minor": 0,
  "metadata": {
    "colab": {
      "provenance": [],
      "authorship_tag": "ABX9TyOpMb5Tbxgp+2K0nddMeyv2",
      "include_colab_link": true
    },
    "kernelspec": {
      "name": "python3",
      "display_name": "Python 3"
    },
    "language_info": {
      "name": "python"
    }
  },
  "cells": [
    {
      "cell_type": "markdown",
      "metadata": {
        "id": "view-in-github",
        "colab_type": "text"
      },
      "source": [
        "<a href=\"https://colab.research.google.com/github/EfrenJH/Ejercicios_Recursividad/blob/main/2_ImprimirImparesEntreMyN_MetodosRecursivosConPilas.ipynb\" target=\"_parent\"><img src=\"https://colab.research.google.com/assets/colab-badge.svg\" alt=\"Open In Colab\"/></a>"
      ]
    },
    {
      "cell_type": "code",
      "execution_count": 2,
      "metadata": {
        "colab": {
          "base_uri": "https://localhost:8080/"
        },
        "id": "Y4wfMY522npC",
        "outputId": "f1ef3b31-13ec-47f9-b8d5-444a52afe223"
      },
      "outputs": [
        {
          "output_type": "stream",
          "name": "stdout",
          "text": [
            "3 5 7 \n"
          ]
        }
      ],
      "source": [
        "def imprimirImparesEntreMyN(m, n):\n",
        "    if type(m) != int:\n",
        "        raise Exception(\"m debe ser entero.\")\n",
        "    if type(n) != int or n <= m:\n",
        "        raise Exception(\"n debe ser entero mayor que m.\")\n",
        "\n",
        "    m = m + 1 if m % 2 == 0 else m\n",
        "    n = n - 1 if n % 2 == 0 else n\n",
        "    imprimirImparesEntreMyNAux(m, n)\n",
        "\n",
        "def imprimirImparesEntreMyNAux(m, n):\n",
        "    if m > n:\n",
        "        print()\n",
        "    else:\n",
        "        print(m, end=\" \")\n",
        "        imprimirImparesEntreMyNAux(m + 2, n)\n",
        "\n",
        "imprimirImparesEntreMyN(2,8)"
      ]
    }
  ]
}