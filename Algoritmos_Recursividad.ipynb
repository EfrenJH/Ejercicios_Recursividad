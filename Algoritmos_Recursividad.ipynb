{
  "nbformat": 4,
  "nbformat_minor": 0,
  "metadata": {
    "colab": {
      "provenance": [],
      "authorship_tag": "ABX9TyNEZBF27ta5v1heaOzQWFR+",
      "include_colab_link": true
    },
    "kernelspec": {
      "name": "python3",
      "display_name": "Python 3"
    },
    "language_info": {
      "name": "python"
    }
  },
  "cells": [
    {
      "cell_type": "markdown",
      "metadata": {
        "id": "view-in-github",
        "colab_type": "text"
      },
      "source": [
        "<a href=\"https://colab.research.google.com/github/EfrenJH/Ejercicios_Recursividad/blob/main/Algoritmos_Recursividad.ipynb\" target=\"_parent\"><img src=\"https://colab.research.google.com/assets/colab-badge.svg\" alt=\"Open In Colab\"/></a>"
      ]
    },
    {
      "cell_type": "markdown",
      "source": [
        "Algotimo para Máximo Común Divisor (Intermedio) - Empaquetar 2 lotes\n",
        "\n",
        "alcular el máximo común divisor:\n",
        "Cuando se desee empaquetar dos lotes de productos (ejemplo: 48 y 18 objetos) en el mayor número posible de cajas iguales sin que sobre nada.\n",
        "\n",
        "  Paso 1: Dividir el número más grande (en este caso el 48) entre el más pequeño (en este caso el 18). El resultado que importa es el residuo (en este caso el 12).\n",
        "\n",
        "  Paso 2: Ahora se volverá a dividir el número más pequeño (en este caso el 18) con el resultado del residuo de la división anterior (en este caso 12) y se toma el residuo (en este caso 6).\n",
        "\n",
        "  Paso 3: Se repite el proceso de agarrar el número menor y dividirlo entre en último residuo.\n",
        "\n",
        "  Paso 4: El resultado final llega hasta cuando el residuo de la división es igual a 0 y el resultado para resolver la problemática es el último residuo que se usa para dividir (en este caso el 6)"
      ],
      "metadata": {
        "id": "y5ITR-qDwo2Z"
      }
    },
    {
      "cell_type": "markdown",
      "source": [
        "Algoritmo para Permutaciones (Avanzado) - Ruta más corta para visitarlos a todas.\n",
        "\n",
        "Generar todas las permutaciones posibles de una lista\n",
        "Problemática: Un repartidor debe visitar 5 ciudades (A, B, C, D, E) y se necesita encontrar la ruta más corta para visitarlas todas.\n",
        "\n",
        "Paso 1: Tomar todas las ciudades que se tienen que visitar y empieza a construir una ruta.\n",
        "\n",
        "Paso 2: Elegir una ciudad de la lista de pendientes para que sea el siguiente punto en la ruta.\n",
        "\n",
        "Paso 4: Mover esa ciudad a la primera posición de la ruta y dejar el resto de las ciudades en una lista aparte.\n",
        "\n",
        "Paso 5: Se repite el procedimiento del paso 2, pero ahora con la lista va a ser más pequeña porque la cantidad de ciudades que quedan por visitar es menor.\n",
        "\n",
        "Paso 6: El proceso se detiene cuando ya no quedan ciudades para elegir. Aquí la ruta ya está completa.\n",
        "\n",
        "Paso 7: Regresar y deshacer la última elección para poder probar con otra ciudad y encontrar todas las rutas posibles.\n",
        "\n"
      ],
      "metadata": {
        "id": "F-B-IVaDyWvg"
      }
    },
    {
      "cell_type": "markdown",
      "source": [
        "Algoritmo para Torres de Hanoi - Mover una pila de libros de diferentes tamaños.\n",
        "Cuando se necesite mover una pila de n libros (4 por ejemplo) de diferentes tamaños de un estante a otro, usando una mesa auxiliar.\n",
        "\n",
        "Paso 1: Los n libros (4 por ejemplo) están apilado en la mesa (A) y se quiere mover a la mesa (B) usando la mesa (C) como auxiliar\n",
        "\n",
        "Paso 2: Mover los 3 libros más pequeños (todos menos el más grande) del estante de origen (A) a la mesa auxiliar (B). Se puede usar el estante de destino (C) como ayuda.\n",
        "\n",
        "Paso 3: Cuando solo quede el libro más grande en el estante de origen (A), moverlo directamente al estante de destino (C).\n",
        "\n",
        "Paso 4: Ahora, toma los 3 libros de la mesa auxiliar (B) y muévelos al estante de destino (C). Para hacer esto, puedes usar el estante de origen (A) como ayuda para que queden apilados correctamente con respecto a su tamaño.\n",
        "\n",
        "Paso 5: El proceso se repite para cada pila de libros que se desea mover. Este termina cuando se termina de desplazar todos los libros de un punto a otro correctamente con respecto a su tamaño."
      ],
      "metadata": {
        "id": "x5bkt1eW1uVa"
      }
    },
    {
      "cell_type": "code",
      "execution_count": null,
      "metadata": {
        "id": "AhjtJM6aqzXv"
      },
      "outputs": [],
      "source": []
    }
  ]
}