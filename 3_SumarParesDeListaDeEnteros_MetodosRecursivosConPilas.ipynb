{
  "nbformat": 4,
  "nbformat_minor": 0,
  "metadata": {
    "colab": {
      "provenance": [],
      "authorship_tag": "ABX9TyOVHAxBiszZKiSe5DPvQEhI",
      "include_colab_link": true
    },
    "kernelspec": {
      "name": "python3",
      "display_name": "Python 3"
    },
    "language_info": {
      "name": "python"
    }
  },
  "cells": [
    {
      "cell_type": "markdown",
      "metadata": {
        "id": "view-in-github",
        "colab_type": "text"
      },
      "source": [
        "<a href=\"https://colab.research.google.com/github/EfrenJH/Ejercicios_Recursividad/blob/main/3_SumarParesDeListaDeEnteros_MetodosRecursivosConPilas.ipynb\" target=\"_parent\"><img src=\"https://colab.research.google.com/assets/colab-badge.svg\" alt=\"Open In Colab\"/></a>"
      ]
    },
    {
      "cell_type": "code",
      "execution_count": 2,
      "metadata": {
        "colab": {
          "base_uri": "https://localhost:8080/"
        },
        "id": "k0nLG-0g7uE0",
        "outputId": "8414936b-269b-42bf-f881-a3ce3a772f98"
      },
      "outputs": [
        {
          "output_type": "execute_result",
          "data": {
            "text/plain": [
              "20"
            ]
          },
          "metadata": {},
          "execution_count": 2
        }
      ],
      "source": [
        "def sumarPares(n):\n",
        "  if type(n) != int or n < 3:\n",
        "    raise Exception(\"n debe ser entero mayor que 2.\")\n",
        "  n -= n % 2\n",
        "  return sumarParesAux(n)\n",
        "\n",
        "def sumarParesAux(n):\n",
        "  if n == 0:\n",
        "    return 0\n",
        "  else:\n",
        "    return sumarParesAux(n - 2) + n\n",
        "\n",
        "sumarPares(8)"
      ]
    }
  ]
}