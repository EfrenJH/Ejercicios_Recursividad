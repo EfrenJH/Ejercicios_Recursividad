{
  "nbformat": 4,
  "nbformat_minor": 0,
  "metadata": {
    "colab": {
      "provenance": [],
      "authorship_tag": "ABX9TyMF10hPvXmCtGkmwFYeqEgZ",
      "include_colab_link": true
    },
    "kernelspec": {
      "name": "python3",
      "display_name": "Python 3"
    },
    "language_info": {
      "name": "python"
    }
  },
  "cells": [
    {
      "cell_type": "markdown",
      "metadata": {
        "id": "view-in-github",
        "colab_type": "text"
      },
      "source": [
        "<a href=\"https://colab.research.google.com/github/EfrenJH/Ejercicios_Recursividad/blob/main/Fibonacci_(B%C3%A1sico%E2%80%93Intermedio)_Solucion.ipynb\" target=\"_parent\"><img src=\"https://colab.research.google.com/assets/colab-badge.svg\" alt=\"Open In Colab\"/></a>"
      ]
    },
    {
      "cell_type": "code",
      "execution_count": null,
      "metadata": {
        "id": "qLvZSEK-Uza-"
      },
      "outputs": [],
      "source": [
        "#from typing import Dict\n",
        "\n",
        "def fibo(n: int) -> int:\n",
        "    \"\"\"\n",
        "    Regresa el n-ésimo número de Fibonacci (0-index) recursivamente (versión simple).\n",
        "    Precondición: n >= 0\n",
        "    Nota: Esta versión es exponencial; se incluye por claridad teórica.\n",
        "    \"\"\"\n",
        "    if n < 0:\n",
        "        raise ValueError(\"fibo: n debe ser >= 0\")\n",
        "    if n == 0:\n",
        "        return 0\n",
        "    if n == 1:\n",
        "        return 1\n",
        "    return fibo(n - 1) + fibo(n - 2)\n",
        "\n",
        "def fibo_memo(n: int, memo: Dict[int, int] | None = None) -> int:\n",
        "    \"\"\"\n",
        "    Fibonacci recursivo con memoización (O(n)).\n",
        "    \"\"\"\n",
        "    if n < 0:\n",
        "        raise ValueError(\"fibo_memo: n debe ser >= 0\")\n",
        "    if memo is None:\n",
        "        memo = {0: 0, 1: 1}\n",
        "    if n in memo:\n",
        "        return memo[n]\n",
        "    memo[n] = fibo_memo(n - 1, memo) + fibo_memo(n - 2, memo)\n",
        "    return memo[n]\n",
        "\n",
        "# Pruebas\n",
        "assert fibo(0) == 0 and fibo(1) == 1 and fibo(7) == 13\n",
        "assert fibo_memo(0) == 0 and fibo_memo(1) == 1 and fibo_memo(30) == 832040"
      ]
    }
  ]
}