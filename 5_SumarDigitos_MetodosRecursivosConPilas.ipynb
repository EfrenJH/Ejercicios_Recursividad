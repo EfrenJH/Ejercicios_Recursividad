{
  "nbformat": 4,
  "nbformat_minor": 0,
  "metadata": {
    "colab": {
      "provenance": [],
      "authorship_tag": "ABX9TyNye1XxECVPRgSaDpyMxksJ",
      "include_colab_link": true
    },
    "kernelspec": {
      "name": "python3",
      "display_name": "Python 3"
    },
    "language_info": {
      "name": "python"
    }
  },
  "cells": [
    {
      "cell_type": "markdown",
      "metadata": {
        "id": "view-in-github",
        "colab_type": "text"
      },
      "source": [
        "<a href=\"https://colab.research.google.com/github/EfrenJH/Ejercicios_Recursividad/blob/main/5_SumarDigitos_MetodosRecursivosConPilas.ipynb\" target=\"_parent\"><img src=\"https://colab.research.google.com/assets/colab-badge.svg\" alt=\"Open In Colab\"/></a>"
      ]
    },
    {
      "cell_type": "code",
      "execution_count": null,
      "metadata": {
        "id": "R-bWe_NT5hrt"
      },
      "outputs": [],
      "source": [
        "def sumarDigitos(n):\n",
        "    if type(n) != int or n < 0:\n",
        "        raise Exception(\"n debe ser entero no negativo.\")\n",
        "    return sumarDigitosAux(n)\n",
        "\n",
        "def sumarDigitosAux(n):\n",
        "    if n < 10:\n",
        "        return n\n",
        "    else:\n",
        "        return sumarDigitosAux(n // 10) + n % 10\n",
        "\n",
        "sumarDigitos(246)"
      ]
    }
  ]
}