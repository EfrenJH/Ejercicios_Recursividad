{
  "nbformat": 4,
  "nbformat_minor": 0,
  "metadata": {
    "colab": {
      "provenance": [],
      "authorship_tag": "ABX9TyMuoNF7OdwdFMpJUv8xhTg8",
      "include_colab_link": true
    },
    "kernelspec": {
      "name": "python3",
      "display_name": "Python 3"
    },
    "language_info": {
      "name": "python"
    }
  },
  "cells": [
    {
      "cell_type": "markdown",
      "metadata": {
        "id": "view-in-github",
        "colab_type": "text"
      },
      "source": [
        "<a href=\"https://colab.research.google.com/github/EfrenJH/Ejercicios_Recursividad/blob/main/Factorial(B%C3%A1sico).ipynb\" target=\"_parent\"><img src=\"https://colab.research.google.com/assets/colab-badge.svg\" alt=\"Open In Colab\"/></a>"
      ]
    },
    {
      "cell_type": "code",
      "execution_count": 7,
      "metadata": {
        "id": "ScrqgUX3_jIJ"
      },
      "outputs": [],
      "source": [
        "from typing import List, Union, Dict\n",
        "def factorial(n: int) -> int:\n",
        "  \"\"\"\n",
        "  Calcula n! recursivamente.\n",
        "  Precondición: n >= 0\n",
        "  \"\"\"\n",
        "  if n < 0:\n",
        "    raise ValueError(\"factorial: n debe ser >= 0\")\n",
        "  if n == 0 or n == 1:\n",
        "    return 1\n",
        "  return n * factorial(n - 1)\n",
        "# Pruebas\n",
        "assert factorial(0) == 1\n",
        "assert factorial(1) == 1\n",
        "assert factorial(5) == 120"
      ]
    }
  ]
}