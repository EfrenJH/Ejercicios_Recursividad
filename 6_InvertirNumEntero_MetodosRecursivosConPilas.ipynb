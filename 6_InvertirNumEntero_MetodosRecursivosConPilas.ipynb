{
  "nbformat": 4,
  "nbformat_minor": 0,
  "metadata": {
    "colab": {
      "provenance": [],
      "authorship_tag": "ABX9TyO5Bs0BRd+E0V/f5RaDsD80",
      "include_colab_link": true
    },
    "kernelspec": {
      "name": "python3",
      "display_name": "Python 3"
    },
    "language_info": {
      "name": "python"
    }
  },
  "cells": [
    {
      "cell_type": "markdown",
      "metadata": {
        "id": "view-in-github",
        "colab_type": "text"
      },
      "source": [
        "<a href=\"https://colab.research.google.com/github/EfrenJH/Ejercicios_Recursividad/blob/main/6_InvertirNumEntero_MetodosRecursivosConPilas.ipynb\" target=\"_parent\"><img src=\"https://colab.research.google.com/assets/colab-badge.svg\" alt=\"Open In Colab\"/></a>"
      ]
    },
    {
      "cell_type": "code",
      "execution_count": 2,
      "metadata": {
        "colab": {
          "base_uri": "https://localhost:8080/"
        },
        "id": "6nMC6gT36YAy",
        "outputId": "4fe6d87f-e99d-4e80-f0b1-f82bb27b2325"
      },
      "outputs": [
        {
          "output_type": "execute_result",
          "data": {
            "text/plain": [
              "624"
            ]
          },
          "metadata": {},
          "execution_count": 2
        }
      ],
      "source": [
        "def contarDigitos(n):\n",
        "    if type(n) != int or n < 0:\n",
        "        raise Exception(\"n debe ser entero no negativo.\")\n",
        "    return contarDigitosAux(n)\n",
        "\n",
        "def contarDigitosAux(n):\n",
        "    if n < 10:\n",
        "        return 1\n",
        "    else:\n",
        "        return contarDigitosAux(n // 10) + 1\n",
        "\n",
        "def invertirEntero(n):\n",
        "    if type(n) != int or n < 1:\n",
        "        raise Exception(\"n debe ser entero positivo.\")\n",
        "    return invertirEnteroAux(n)\n",
        "\n",
        "def invertirEnteroAux(n):\n",
        "    if n < 10:\n",
        "        return n\n",
        "    else:\n",
        "      return (n % 10) * (10 ** (contarDigitos(n // 10))) + invertirEnteroAux(n // 10)\n",
        "invertirEntero(426)"
      ]
    }
  ]
}