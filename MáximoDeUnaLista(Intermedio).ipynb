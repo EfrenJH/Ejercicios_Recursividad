{
  "nbformat": 4,
  "nbformat_minor": 0,
  "metadata": {
    "colab": {
      "provenance": [],
      "authorship_tag": "ABX9TyNDP8woh5IctEXh8a9DiBbI",
      "include_colab_link": true
    },
    "kernelspec": {
      "name": "python3",
      "display_name": "Python 3"
    },
    "language_info": {
      "name": "python"
    }
  },
  "cells": [
    {
      "cell_type": "markdown",
      "metadata": {
        "id": "view-in-github",
        "colab_type": "text"
      },
      "source": [
        "<a href=\"https://colab.research.google.com/github/EfrenJH/Ejercicios_Recursividad/blob/main/M%C3%A1ximoDeUnaLista(Intermedio).ipynb\" target=\"_parent\"><img src=\"https://colab.research.google.com/assets/colab-badge.svg\" alt=\"Open In Colab\"/></a>"
      ]
    },
    {
      "cell_type": "code",
      "execution_count": 2,
      "metadata": {
        "id": "em_JoI2dXUdf"
      },
      "outputs": [],
      "source": [
        "#from typing import List\n",
        "\n",
        "def maximo(lst: List[int]) -> int:\n",
        "    \"\"\"\n",
        "    Devuelve el máximo de una lista no vacía recursivamente.\n",
        "    Precondición: len(lst) >= 1\n",
        "    \"\"\"\n",
        "    if not lst:\n",
        "        raise ValueError(\"maximo: la lista no debe estar vacía\")\n",
        "    if len(lst) == 1:\n",
        "        return lst[0]\n",
        "    max_resto = maximo(lst[1:])\n",
        "    return lst[0] if lst[0] >= max_resto else max_resto\n",
        "\n",
        "# Pruebas\n",
        "assert maximo([3]) == 3\n",
        "assert maximo([3, 10, -2, 7]) == 10\n",
        "assert maximo([-5, -1, -9]) == -1"
      ]
    }
  ]
}